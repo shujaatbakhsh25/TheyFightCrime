{
 "cells": [
  {
   "cell_type": "code",
   "execution_count": 1,
   "metadata": {},
   "outputs": [],
   "source": [
    "import pandas as pd\n",
    "from textblob import TextBlob"
   ]
  },
  {
   "cell_type": "code",
   "execution_count": 2,
   "metadata": {},
   "outputs": [],
   "source": [
    "maleDF = pd.read_csv(\"maleResults.txt\",names=[\"text\"])\n",
    "femaleDF=pd.read_csv(\"femaleResults.txt\",names=[\"text\"])"
   ]
  },
  {
   "cell_type": "code",
   "execution_count": 3,
   "metadata": {},
   "outputs": [],
   "source": [
    "maleDF['Sentiment'] = maleDF['text'].apply(lambda x: TextBlob(x))\n",
    "femaleDF['Sentiment'] = femaleDF['text'].apply(lambda x: TextBlob(x))"
   ]
  },
  {
   "cell_type": "code",
   "execution_count": 4,
   "metadata": {},
   "outputs": [],
   "source": [
    "maleDF['Sentiment'] = maleDF['Sentiment'].apply(lambda x : x.sentiment[0])\n",
    "femaleDF['Sentiment'] = femaleDF['Sentiment'].apply(lambda x : x.sentiment[0])"
   ]
  },
  {
   "cell_type": "code",
   "execution_count": 5,
   "metadata": {},
   "outputs": [
    {
     "data": {
      "text/html": "<div>\n<style scoped>\n    .dataframe tbody tr th:only-of-type {\n        vertical-align: middle;\n    }\n\n    .dataframe tbody tr th {\n        vertical-align: top;\n    }\n\n    .dataframe thead th {\n        text-align: right;\n    }\n</style>\n<table border=\"1\" class=\"dataframe\">\n  <thead>\n    <tr style=\"text-align: right;\">\n      <th></th>\n      <th>text</th>\n      <th>Sentiment</th>\n    </tr>\n  </thead>\n  <tbody>\n    <tr>\n      <th>166</th>\n      <td>He's a superhumanly strong skateboarding rock ...</td>\n      <td>0.433333</td>\n    </tr>\n    <tr>\n      <th>585</th>\n      <td>He's a superhumanly strong flyboy romance nove...</td>\n      <td>0.433333</td>\n    </tr>\n    <tr>\n      <th>52</th>\n      <td>He's a superhumanly strong devious ex-con who ...</td>\n      <td>0.433333</td>\n    </tr>\n    <tr>\n      <th>84</th>\n      <td>He's a superhumanly strong vegetarian vagrant ...</td>\n      <td>0.433333</td>\n    </tr>\n    <tr>\n      <th>451</th>\n      <td>He's a superhumanly strong misogynist cat burg...</td>\n      <td>0.433333</td>\n    </tr>\n    <tr>\n      <th>1016</th>\n      <td>He's a superhumanly strong flyboy romance nove...</td>\n      <td>0.433333</td>\n    </tr>\n    <tr>\n      <th>317</th>\n      <td>He's a one-legged gay farmboy with no name.</td>\n      <td>0.416667</td>\n    </tr>\n    <tr>\n      <th>651</th>\n      <td>He's a war-weary gay cowboy who must take medi...</td>\n      <td>0.416667</td>\n    </tr>\n    <tr>\n      <th>890</th>\n      <td>He's a hate-fuelled gay photographer from a do...</td>\n      <td>0.416667</td>\n    </tr>\n    <tr>\n      <th>361</th>\n      <td>He's a suave gay vagrant possessed of the unca...</td>\n      <td>0.416667</td>\n    </tr>\n  </tbody>\n</table>\n</div>",
      "text/plain": "                                                   text  Sentiment\n166   He's a superhumanly strong skateboarding rock ...   0.433333\n585   He's a superhumanly strong flyboy romance nove...   0.433333\n52    He's a superhumanly strong devious ex-con who ...   0.433333\n84    He's a superhumanly strong vegetarian vagrant ...   0.433333\n451   He's a superhumanly strong misogynist cat burg...   0.433333\n1016  He's a superhumanly strong flyboy romance nove...   0.433333\n317        He's a one-legged gay farmboy with no name.    0.416667\n651   He's a war-weary gay cowboy who must take medi...   0.416667\n890   He's a hate-fuelled gay photographer from a do...   0.416667\n361   He's a suave gay vagrant possessed of the unca...   0.416667"
     },
     "execution_count": 5,
     "metadata": {},
     "output_type": "execute_result"
    }
   ],
   "source": [
    "maleDF=maleDF.sort_values('Sentiment',ascending=False)\n",
    "maleDF.head(10)"
   ]
  },
  {
   "cell_type": "code",
   "execution_count": 6,
   "metadata": {},
   "outputs": [
    {
     "data": {
      "text/html": "<div>\n<style scoped>\n    .dataframe tbody tr th:only-of-type {\n        vertical-align: middle;\n    }\n\n    .dataframe tbody tr th {\n        vertical-align: top;\n    }\n\n    .dataframe thead th {\n        text-align: right;\n    }\n</style>\n<table border=\"1\" class=\"dataframe\">\n  <thead>\n    <tr style=\"text-align: right;\">\n      <th></th>\n      <th>text</th>\n      <th>Sentiment</th>\n    </tr>\n  </thead>\n  <tbody>\n    <tr>\n      <th>291</th>\n      <td>He's a hate-fuelled arachnophobic paramedic pl...</td>\n      <td>-0.875</td>\n    </tr>\n    <tr>\n      <th>1029</th>\n      <td>He's a leather-clad one-eyed filmmaker plagued...</td>\n      <td>-0.875</td>\n    </tr>\n    <tr>\n      <th>658</th>\n      <td>He's a hate-fuelled playboy firefighter plague...</td>\n      <td>-0.875</td>\n    </tr>\n    <tr>\n      <th>1026</th>\n      <td>He's an old-fashioned playboy grifter plagued ...</td>\n      <td>-0.875</td>\n    </tr>\n    <tr>\n      <th>109</th>\n      <td>He's a benighted drug-addicted messiah plagued...</td>\n      <td>-0.875</td>\n    </tr>\n    <tr>\n      <th>102</th>\n      <td>He's a one-legged devious paranormal investiga...</td>\n      <td>-0.875</td>\n    </tr>\n    <tr>\n      <th>91</th>\n      <td>He's a jaded Amish cowboy plagued by the memor...</td>\n      <td>-0.875</td>\n    </tr>\n    <tr>\n      <th>797</th>\n      <td>He's a war-weary zombie stage actor plagued by...</td>\n      <td>-0.875</td>\n    </tr>\n    <tr>\n      <th>65</th>\n      <td>He's an obese albino shaman plagued by the mem...</td>\n      <td>-0.875</td>\n    </tr>\n    <tr>\n      <th>607</th>\n      <td>He's a Nobel prize-winning umbrella-wielding s...</td>\n      <td>-0.875</td>\n    </tr>\n  </tbody>\n</table>\n</div>",
      "text/plain": "                                                   text  Sentiment\n291   He's a hate-fuelled arachnophobic paramedic pl...     -0.875\n1029  He's a leather-clad one-eyed filmmaker plagued...     -0.875\n658   He's a hate-fuelled playboy firefighter plague...     -0.875\n1026  He's an old-fashioned playboy grifter plagued ...     -0.875\n109   He's a benighted drug-addicted messiah plagued...     -0.875\n102   He's a one-legged devious paranormal investiga...     -0.875\n91    He's a jaded Amish cowboy plagued by the memor...     -0.875\n797   He's a war-weary zombie stage actor plagued by...     -0.875\n65    He's an obese albino shaman plagued by the mem...     -0.875\n607   He's a Nobel prize-winning umbrella-wielding s...     -0.875"
     },
     "execution_count": 6,
     "metadata": {},
     "output_type": "execute_result"
    }
   ],
   "source": [
    "maleDF.tail(10)"
   ]
  },
  {
   "cell_type": "code",
   "execution_count": 7,
   "metadata": {},
   "outputs": [
    {
     "data": {
      "text/html": "<div>\n<style scoped>\n    .dataframe tbody tr th:only-of-type {\n        vertical-align: middle;\n    }\n\n    .dataframe tbody tr th {\n        vertical-align: top;\n    }\n\n    .dataframe thead th {\n        text-align: right;\n    }\n</style>\n<table border=\"1\" class=\"dataframe\">\n  <thead>\n    <tr style=\"text-align: right;\">\n      <th></th>\n      <th>text</th>\n      <th>Sentiment</th>\n    </tr>\n  </thead>\n  <tbody>\n    <tr>\n      <th>107</th>\n      <td>She's a mistrustful snooty detective with an i...</td>\n      <td>0.9</td>\n    </tr>\n    <tr>\n      <th>783</th>\n      <td>She's a tortured motormouth traffic cop with a...</td>\n      <td>0.9</td>\n    </tr>\n    <tr>\n      <th>521</th>\n      <td>She's a brilliant mute pearl diver on her way ...</td>\n      <td>0.9</td>\n    </tr>\n    <tr>\n      <th>301</th>\n      <td>She's a strong-willed hypochondriac mermaid wi...</td>\n      <td>0.9</td>\n    </tr>\n    <tr>\n      <th>753</th>\n      <td>She\\'s a brilliant communist lawyer trying to ...</td>\n      <td>0.9</td>\n    </tr>\n    <tr>\n      <th>598</th>\n      <td>Shes's a brilliant streetsmart bounty hunter w...</td>\n      <td>0.9</td>\n    </tr>\n    <tr>\n      <th>284</th>\n      <td>She's a manipulative belly-dancing museum cura...</td>\n      <td>0.9</td>\n    </tr>\n    <tr>\n      <th>733</th>\n      <td>She\\'s a scantily clad antique-collecting scho...</td>\n      <td>0.9</td>\n    </tr>\n    <tr>\n      <th>315</th>\n      <td>She's a brilliant impetuous soap star in the w...</td>\n      <td>0.9</td>\n    </tr>\n    <tr>\n      <th>157</th>\n      <td>She's a brilliant antique-collecting fairy pri...</td>\n      <td>0.9</td>\n    </tr>\n  </tbody>\n</table>\n</div>",
      "text/plain": "                                                  text  Sentiment\n107  She's a mistrustful snooty detective with an i...        0.9\n783  She's a tortured motormouth traffic cop with a...        0.9\n521  She's a brilliant mute pearl diver on her way ...        0.9\n301  She's a strong-willed hypochondriac mermaid wi...        0.9\n753  She\\'s a brilliant communist lawyer trying to ...        0.9\n598  Shes's a brilliant streetsmart bounty hunter w...        0.9\n284  She's a manipulative belly-dancing museum cura...        0.9\n733  She\\'s a scantily clad antique-collecting scho...        0.9\n315  She's a brilliant impetuous soap star in the w...        0.9\n157  She's a brilliant antique-collecting fairy pri...        0.9"
     },
     "execution_count": 7,
     "metadata": {},
     "output_type": "execute_result"
    }
   ],
   "source": [
    "femaleDF=femaleDF.sort_values('Sentiment',ascending=False)\n",
    "femaleDF.head(10)"
   ]
  },
  {
   "cell_type": "code",
   "execution_count": 8,
   "metadata": {},
   "outputs": [
    {
     "data": {
      "text/html": "<div>\n<style scoped>\n    .dataframe tbody tr th:only-of-type {\n        vertical-align: middle;\n    }\n\n    .dataframe tbody tr th {\n        vertical-align: top;\n    }\n\n    .dataframe thead th {\n        text-align: right;\n    }\n</style>\n<table border=\"1\" class=\"dataframe\">\n  <thead>\n    <tr style=\"text-align: right;\">\n      <th></th>\n      <th>text</th>\n      <th>Sentiment</th>\n    </tr>\n  </thead>\n  <tbody>\n    <tr>\n      <th>194</th>\n      <td>She's a provocative belly-dancing socialite wi...</td>\n      <td>-1.0</td>\n    </tr>\n    <tr>\n      <th>259</th>\n      <td>She's a virginal African-American cab driver w...</td>\n      <td>-1.0</td>\n    </tr>\n    <tr>\n      <th>114</th>\n      <td>She's an orphaned mute stripper with an evil t...</td>\n      <td>-1.0</td>\n    </tr>\n    <tr>\n      <th>887</th>\n      <td>She's a warm-hearted mutant doctor with an evi...</td>\n      <td>-1.0</td>\n    </tr>\n    <tr>\n      <th>113</th>\n      <td>She's a man-hating green-skinned soap star wit...</td>\n      <td>-1.0</td>\n    </tr>\n    <tr>\n      <th>667</th>\n      <td>She's a strong-willed kleptomaniac politician ...</td>\n      <td>-1.0</td>\n    </tr>\n    <tr>\n      <th>457</th>\n      <td>She's a virginal streetsmart femme fatale with...</td>\n      <td>-1.0</td>\n    </tr>\n    <tr>\n      <th>367</th>\n      <td>She's a manipulative hip-hop snake charmer wit...</td>\n      <td>-1.0</td>\n    </tr>\n    <tr>\n      <th>465</th>\n      <td>She's a mistrustful tempestuous magician's ass...</td>\n      <td>-1.0</td>\n    </tr>\n    <tr>\n      <th>789</th>\n      <td>She's a sharp-shooting gypsy advertising execu...</td>\n      <td>-1.0</td>\n    </tr>\n  </tbody>\n</table>\n</div>",
      "text/plain": "                                                  text  Sentiment\n194  She's a provocative belly-dancing socialite wi...       -1.0\n259  She's a virginal African-American cab driver w...       -1.0\n114  She's an orphaned mute stripper with an evil t...       -1.0\n887  She's a warm-hearted mutant doctor with an evi...       -1.0\n113  She's a man-hating green-skinned soap star wit...       -1.0\n667  She's a strong-willed kleptomaniac politician ...       -1.0\n457  She's a virginal streetsmart femme fatale with...       -1.0\n367  She's a manipulative hip-hop snake charmer wit...       -1.0\n465  She's a mistrustful tempestuous magician's ass...       -1.0\n789  She's a sharp-shooting gypsy advertising execu...       -1.0"
     },
     "execution_count": 8,
     "metadata": {},
     "output_type": "execute_result"
    }
   ],
   "source": [
    "femaleDF.tail(10)"
   ]
  },
  {
   "cell_type": "code",
   "execution_count": null,
   "metadata": {},
   "outputs": [],
   "source": []
  }
 ],
 "metadata": {
  "kernelspec": {
   "display_name": "Python 3",
   "language": "python",
   "name": "python3"
  },
  "language_info": {
   "codemirror_mode": {
    "name": "ipython",
    "version": 3
   },
   "file_extension": ".py",
   "mimetype": "text/x-python",
   "name": "python",
   "nbconvert_exporter": "python",
   "pygments_lexer": "ipython3",
   "version": "3.7.3"
  }
 },
 "nbformat": 4,
 "nbformat_minor": 2
}
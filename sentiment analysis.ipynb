{
 "cells": [
  {
   "cell_type": "code",
   "execution_count": 1,
   "metadata": {},
   "outputs": [],
   "source": [
    "import pandas as pd\n",
    "from textblob import TextBlob"
   ]
  },
  {
   "cell_type": "code",
   "execution_count": 2,
   "metadata": {},
   "outputs": [],
   "source": [
    "maleDF = pd.read_csv(\"maleResults.txt\",names=[\"text\"])\n",
    "femaleDF=pd.read_csv(\"femaleResults.txt\",names=[\"text\"])"
   ]
  },
  {
   "cell_type": "code",
   "execution_count": 3,
   "metadata": {},
   "outputs": [],
   "source": [
    "maleDF['Sentiment'] = maleDF['text'].apply(lambda x: TextBlob(x))\n",
    "femaleDF['Sentiment'] = femaleDF['text'].apply(lambda x: TextBlob(x))"
   ]
  },
  {
   "cell_type": "code",
   "execution_count": 4,
   "metadata": {},
   "outputs": [],
   "source": [
    "maleDF['Sentiment'] = maleDF['Sentiment'].apply(lambda x : x.sentiment[0])\n",
    "femaleDF['Sentiment'] = femaleDF['Sentiment'].apply(lambda x : x.sentiment[0])"
   ]
  },
  {
   "cell_type": "code",
   "execution_count": 5,
   "metadata": {},
   "outputs": [
    {
     "data": {
      "text/html": "<div>\n<style scoped>\n    .dataframe tbody tr th:only-of-type {\n        vertical-align: middle;\n    }\n\n    .dataframe tbody tr th {\n        vertical-align: top;\n    }\n\n    .dataframe thead th {\n        text-align: right;\n    }\n</style>\n<table border=\"1\" class=\"dataframe\">\n  <thead>\n    <tr style=\"text-align: right;\">\n      <th></th>\n      <th>text</th>\n      <th>Sentiment</th>\n    </tr>\n  </thead>\n  <tbody>\n    <tr>\n      <th>291</th>\n      <td>He's a hate-fuelled arachnophobic paramedic pl...</td>\n      <td>-0.875</td>\n    </tr>\n    <tr>\n      <th>1029</th>\n      <td>He's a leather-clad one-eyed filmmaker plagued...</td>\n      <td>-0.875</td>\n    </tr>\n    <tr>\n      <th>658</th>\n      <td>He's a hate-fuelled playboy firefighter plague...</td>\n      <td>-0.875</td>\n    </tr>\n    <tr>\n      <th>1026</th>\n      <td>He's an old-fashioned playboy grifter plagued ...</td>\n      <td>-0.875</td>\n    </tr>\n    <tr>\n      <th>109</th>\n      <td>He's a benighted drug-addicted messiah plagued...</td>\n      <td>-0.875</td>\n    </tr>\n    <tr>\n      <th>102</th>\n      <td>He's a one-legged devious paranormal investiga...</td>\n      <td>-0.875</td>\n    </tr>\n    <tr>\n      <th>91</th>\n      <td>He's a jaded Amish cowboy plagued by the memor...</td>\n      <td>-0.875</td>\n    </tr>\n    <tr>\n      <th>797</th>\n      <td>He's a war-weary zombie stage actor plagued by...</td>\n      <td>-0.875</td>\n    </tr>\n    <tr>\n      <th>65</th>\n      <td>He's an obese albino shaman plagued by the mem...</td>\n      <td>-0.875</td>\n    </tr>\n    <tr>\n      <th>607</th>\n      <td>He's a Nobel prize-winning umbrella-wielding s...</td>\n      <td>-0.875</td>\n    </tr>\n  </tbody>\n</table>\n</div>",
      "text/plain": "                                                   text  Sentiment\n291   He's a hate-fuelled arachnophobic paramedic pl...     -0.875\n1029  He's a leather-clad one-eyed filmmaker plagued...     -0.875\n658   He's a hate-fuelled playboy firefighter plague...     -0.875\n1026  He's an old-fashioned playboy grifter plagued ...     -0.875\n109   He's a benighted drug-addicted messiah plagued...     -0.875\n102   He's a one-legged devious paranormal investiga...     -0.875\n91    He's a jaded Amish cowboy plagued by the memor...     -0.875\n797   He's a war-weary zombie stage actor plagued by...     -0.875\n65    He's an obese albino shaman plagued by the mem...     -0.875\n607   He's a Nobel prize-winning umbrella-wielding s...     -0.875"
     },
     "execution_count": 5,
     "metadata": {},
     "output_type": "execute_result"
    }
   ],
   "source": [
    "maleDF=maleDF.sort_values('Sentiment',ascending=False)\n",
    "maleDF.tail(10)"
   ]
  },
  {
   "cell_type": "code",
   "execution_count": 7,
   "metadata": {},
   "outputs": [
    {
     "data": {
      "text/html": "<div>\n<style scoped>\n    .dataframe tbody tr th:only-of-type {\n        vertical-align: middle;\n    }\n\n    .dataframe tbody tr th {\n        vertical-align: top;\n    }\n\n    .dataframe thead th {\n        text-align: right;\n    }\n</style>\n<table border=\"1\" class=\"dataframe\">\n  <thead>\n    <tr style=\"text-align: right;\">\n      <th></th>\n      <th>text</th>\n      <th>Sentiment</th>\n    </tr>\n  </thead>\n  <tbody>\n    <tr>\n      <th>107</th>\n      <td>She's a mistrustful snooty detective with an i...</td>\n      <td>0.9</td>\n    </tr>\n    <tr>\n      <th>850</th>\n      <td>She's a cold-hearted snooty bodyguard with an ...</td>\n      <td>0.9</td>\n    </tr>\n    <tr>\n      <th>783</th>\n      <td>She's a tortured motormouth traffic cop with a...</td>\n      <td>0.9</td>\n    </tr>\n    <tr>\n      <th>489</th>\n      <td>She's a brilliant tomboy stripper trying to ma...</td>\n      <td>0.9</td>\n    </tr>\n    <tr>\n      <th>350</th>\n      <td>She's a virginal winged Hell's Angel with an i...</td>\n      <td>0.9</td>\n    </tr>\n    <tr>\n      <th>995</th>\n      <td>She's a brilliant motormouth bodyguard with an...</td>\n      <td>0.9</td>\n    </tr>\n    <tr>\n      <th>81</th>\n      <td>She's a manipulative psychic opera singer with...</td>\n      <td>0.9</td>\n    </tr>\n    <tr>\n      <th>899</th>\n      <td>She's a brilliant French-Canadian wrestler wit...</td>\n      <td>0.9</td>\n    </tr>\n    <tr>\n      <th>901</th>\n      <td>She's an enchanted belly-dancing Hell's Angel ...</td>\n      <td>0.9</td>\n    </tr>\n    <tr>\n      <th>334</th>\n      <td>She's a warm-hearted African-American socialit...</td>\n      <td>0.9</td>\n    </tr>\n  </tbody>\n</table>\n</div>",
      "text/plain": "                                                  text  Sentiment\n107  She's a mistrustful snooty detective with an i...        0.9\n850  She's a cold-hearted snooty bodyguard with an ...        0.9\n783  She's a tortured motormouth traffic cop with a...        0.9\n489  She's a brilliant tomboy stripper trying to ma...        0.9\n350  She's a virginal winged Hell's Angel with an i...        0.9\n995  She's a brilliant motormouth bodyguard with an...        0.9\n81   She's a manipulative psychic opera singer with...        0.9\n899  She's a brilliant French-Canadian wrestler wit...        0.9\n901  She's an enchanted belly-dancing Hell's Angel ...        0.9\n334  She's a warm-hearted African-American socialit...        0.9"
     },
     "execution_count": 7,
     "metadata": {},
     "output_type": "execute_result"
    }
   ],
   "source": [
    "femaleDF=femaleDF.sort_values('Sentiment',ascending=False)\n",
    "femaleDF.head(10)"
   ]
  },
  {
   "cell_type": "code",
   "execution_count": null,
   "metadata": {},
   "outputs": [],
   "source": []
  }
 ],
 "metadata": {
  "kernelspec": {
   "display_name": "Python 3",
   "language": "python",
   "name": "python3"
  },
  "language_info": {
   "codemirror_mode": {
    "name": "ipython",
    "version": 3
   },
   "file_extension": ".py",
   "mimetype": "text/x-python",
   "name": "python",
   "nbconvert_exporter": "python",
   "pygments_lexer": "ipython3",
   "version": "3.7.3"
  }
 },
 "nbformat": 4,
 "nbformat_minor": 2
}